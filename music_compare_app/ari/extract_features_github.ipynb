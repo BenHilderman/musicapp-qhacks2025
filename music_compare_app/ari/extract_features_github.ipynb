{
 "cells": [
  {
   "cell_type": "code",
   "execution_count": null,
   "metadata": {},
   "outputs": [],
   "source": [
    "\n",
    "\n",
    "features_df['title'] = playlist_tracks_titles\n",
    "features_df['first_artist'] = playlist_tracks_first_artists\n",
    "features_df['all_artists'] = playlist_tracks_artists\n",
    "#features_df = features_df.set_index('id')\n",
    "features_df = features_df[['id', 'title', 'first_artist', 'all_artists',\n",
    "                           'danceability', 'energy', 'key', 'loudness',\n",
    "                           'mode', 'acousticness', 'instrumentalness',\n",
    "                           'liveness', 'valence', 'tempo',\n",
    "                           'duration_ms', 'time_signature']]\n",
    "features_df.head()"
   ]
  },
  {
   "cell_type": "code",
   "execution_count": 12,
   "metadata": {},
   "outputs": [
    {
     "name": "stdout",
     "output_type": "stream",
     "text": [
      "Cruisin'\n",
      "Huey Lewis and the News\n"
     ]
    }
   ],
   "source": [
    "# Iterating through multiple resumes to segregate using chat tools\n",
    "# groq fine-tuned model\n",
    "# recommendation agent\n",
    "\n",
    "# Ari's thoughts:\n",
    "\n",
    "# Agent 1: Can you determine and extract the features of the songs?\n",
    "# Agent 2: Based on the features, can you recommend a song with similar features?\n",
    "\n",
    "import os\n",
    "import pandas as pd\n",
    "from groq import Groq\n",
    "\n",
    "# Set up Groq client\n",
    "groq = Groq(api_key=\"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\")\n",
    "groq_client = groq\n",
    "\n",
    "MODEL = \"llama-3.3-70b-versatile\"\n",
    "\n",
    "# Can be changed depending on use case\n",
    "system_prompt = (\n",
    "            \"You are a pro at evaluating music and determining the best recommendation for a user. You will be receiving songs in a chronological hierarchy.\"\n",
    "            \"Please provide a recommendation WITHOUT ANY EXPLANATION. Only provide the song name followed by a dash and display the artist. Do not include any other text. For example, output: Headlines-Drake\"\n",
    ")\n",
    "\n",
    "# Hard-coded user ranking that must be replaced by the input provided by tinder output\n",
    "# Example 1:\n",
    "prompt_user_ranking = \"Given the song ranking, please provide the user a recommendation.\"\n",
    "user_ranking = \"1. Headlines - Drake, 2. The Motto - Drake, 3. 0 to 100 - Drake, 4. Started From The Bottom - Drake, 5. Energy - Drake\"\n",
    "\n",
    "# Example 2:\n",
    "prompt_vibe_wanted = \"Given the user's vibe, please recommend a song with similar vibe.\"\n",
    "vibe_wanted = \"Late night drive\"\n",
    "\n",
    "messages = [\n",
    "    {\n",
    "        \"role\": \"system\",\n",
    "        \"content\": system_prompt,\n",
    "    }\n",
    "]\n",
    "\n",
    "messages.append({\"role\": \"user\", \"content\": (f\"{prompt_vibe_wanted} {vibe_wanted}\")})\n",
    "\n",
    "chat_completion = groq_client.chat.completions.create(\n",
    "    messages=messages,\n",
    "    # The language model which will generate the completion.\n",
    "    model=MODEL,\n",
    "    temperature=0.5,\n",
    "    max_completion_tokens=1024,\n",
    "    top_p=1,\n",
    "    stop=None,\n",
    "    stream=False,\n",
    ")\n",
    "\n",
    "# Print the completion returned by the LLM.\n",
    "output_recommendation = chat_completion.choices[0].message.content\n",
    "\n",
    "song,artist = output_recommendation.split(\"-\")\n",
    "print(song)\n",
    "print(artist)"
   ]
  },
  {
   "cell_type": "code",
   "execution_count": null,
   "metadata": {},
   "outputs": [],
   "source": [
    "# agent for breakdown of the songs to develop to the music dna and more detailed analysis of the recommendations"
   ]
  }
 ],
 "metadata": {
  "kernelspec": {
   "display_name": ".venv",
   "language": "python",
   "name": "python3"
  },
  "language_info": {
   "codemirror_mode": {
    "name": "ipython",
    "version": 3
   },
   "file_extension": ".py",
   "mimetype": "text/x-python",
   "name": "python",
   "nbconvert_exporter": "python",
   "pygments_lexer": "ipython3",
   "version": "3.13.0"
  }
 },
 "nbformat": 4,
 "nbformat_minor": 2
}
